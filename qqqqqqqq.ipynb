{
  "cells": [
    {
      "cell_type": "markdown",
      "metadata": {
        "id": "JIX9shev5qME"
      },
      "source": [
        "#  For Loops and While Loops"
      ]
    },
    {
      "cell_type": "markdown",
      "metadata": {
        "id": "WVAot-Vr8F2U"
      },
      "source": [
        "# Large Practical Applications"
      ]
    },
    {
      "cell_type": "markdown",
      "metadata": {
        "id": "rxzeb7U98U47"
      },
      "source": [
        "Finding the Maximum Value in a List"
      ]
    },
    {
      "cell_type": "code",
      "execution_count": null,
      "metadata": {},
      "outputs": [],
      "source": [
        "L = input(\"please enter a list of numbers separated by space: \").split()\n",
        "L = [int(i) for i in L]\n",
        "\n",
        "if len(L) == 0:\n",
        "    print(\"the list is empty, so no max here.\")\n",
        "else:\n",
        "    max_val = L[0]\n",
        "    for i in L:\n",
        "        if i > max_val:\n",
        "            max_val = i\n",
        "    print(\"the maximum value in your list is:\", max_val)\n"
      ]
    },
    {
      "cell_type": "markdown",
      "metadata": {
        "id": "EQPvgXIX8X87"
      },
      "source": [
        "Counting Vowels in a String"
      ]
    },
    {
      "cell_type": "code",
      "execution_count": null,
      "metadata": {},
      "outputs": [],
      "source": [
        "x = input(\"please enter a string to count its vowels :) \")\n",
        "x = x.lower()\n",
        "vowels = \"aeiou\" # the english vowels vheck if it has one or more in ittt\n",
        "count = 0\n",
        "\n",
        "for i in x:\n",
        "    if i in vowels:\n",
        "        count += 1\n",
        "\n",
        "print(\"number of vowels in your string is:\", count)\n"
      ]
    },
    {
      "cell_type": "markdown",
      "metadata": {
        "id": "W_m3FN138bJP"
      },
      "source": [
        "Finding Prime Numbers within a Range"
      ]
    },
    {
      "cell_type": "code",
      "execution_count": null,
      "metadata": {},
      "outputs": [],
      "source": [
        "start = int(input(\"enter the start of range: \"))\n",
        "end = int(input(\"enter the end of range: \"))\n",
        "print(\"the prime numbers in this range are:\")\n",
        "\n",
        "for num in range(start, end + 1):\n",
        "    if num > 1:\n",
        "        is_prime = True\n",
        "        for i in range(2, int(num ** 0.5) + 1):\n",
        "            if num % i == 0:\n",
        "                is_prime = False\n",
        "                break\n",
        "        if is_prime:\n",
        "            print(num)\n"
      ]
    },
    {
      "cell_type": "markdown",
      "metadata": {
        "id": "fRMwGNG_8d-U"
      },
      "source": [
        "Generating a Fibonacci Sequence"
      ]
    },
    {
      "cell_type": "code",
      "execution_count": null,
      "metadata": {},
      "outputs": [],
      "source": [
        "n = int(input(\"enter numbers you want\"))\n",
        "\n",
        "if n <= 0:\n",
        "    print(\"invalid number, idiot ;[ \")\n",
        "elif n == 1:\n",
        "    print(\"0\")\n",
        "else:\n",
        "    a = 0\n",
        "    b = 1\n",
        "    print(a)\n",
        "    print(b)\n",
        "    for i in range(2, n):\n",
        "        c = a + b\n",
        "        print(c)\n",
        "        a = b\n",
        "        b = c\n"
      ]
    },
    {
      "cell_type": "markdown",
      "metadata": {
        "id": "qq_4UdQX8hku"
      },
      "source": [
        "Simulating a Basic ATM Withdrawal"
      ]
    },
    {
      "cell_type": "code",
      "execution_count": null,
      "metadata": {},
      "outputs": [],
      "source": [
        "balance = int(input(\"enter yourbalnce \"))\n",
        "\n",
        "while True:\n",
        "    amount = int(input(\"enter the amount you want  \"))\n",
        "\n",
        "    if amount <= 0:\n",
        "        print(\"invalid amount\")\n",
        "    elif amount > balance:\n",
        "        print(\"insufficient funds\")\n",
        "    else:\n",
        "        balance -= amount\n",
        "        print(\"withdrawal successful\")\n",
        "        print(\"your remaining balance is\", balance)\n",
        "\n",
        "    again = input(\"do you want to withdraw again? (yes/no): \")\n",
        "    if again.lower() != \"yes\":\n",
        "        break\n"
      ]
    },
    {
      "cell_type": "markdown",
      "metadata": {
        "id": "q5tUgr588ph5"
      },
      "source": [
        "Finding Common Elements in Two Lists"
      ]
    },
    {
      "cell_type": "code",
      "execution_count": null,
      "metadata": {},
      "outputs": [],
      "source": [
        "L1 = input(\"enter the first list \").split()\n",
        "L2 = input(\"enter the second list  \").split()\n",
        "\n",
        "L1 = [int(i) for i in L1]\n",
        "L2 = [int(i) for i in L2]\n",
        "\n",
        "common = []\n",
        "\n",
        "for i in L1:\n",
        "    if i in L2 and i not in common:\n",
        "        common.append(i)\n",
        "\n",
        "print(\"the common elements are:\", common)\n"
      ]
    },
    {
      "cell_type": "markdown",
      "metadata": {
        "id": "iUcFVt0-8sKw"
      },
      "source": [
        "Calculating Factorial of a Number"
      ]
    },
    {
      "cell_type": "code",
      "execution_count": null,
      "metadata": {},
      "outputs": [],
      "source": [
        "n = int(input(\"enter integer\"))\n",
        "\n",
        "if n < 0:\n",
        "    print(\"invalidfdddddddddddddd\")\n",
        "else:\n",
        "    facttt = 1\n",
        "    for i in range(1, n + 1):\n",
        "        facttt *= i\n",
        "    print(\"factorial \", n, \" is \", facttt)\n"
      ]
    },
    {
      "cell_type": "markdown",
      "metadata": {
        "id": "EZBYYxRR8ucZ"
      },
      "source": [
        "Validating User Input with While Loop"
      ]
    },
    {
      "cell_type": "code",
      "execution_count": null,
      "metadata": {},
      "outputs": [],
      "source": [
        "while True:\n",
        "    x = input(\"please enter a positive integer no tricks please \")\n",
        "    if x.isdigit():\n",
        "        x = int(x)\n",
        "        if x > 0:\n",
        "            print(\"nice one, you entered\", x)\n",
        "            break\n",
        "        else:\n",
        "            print(\"bro, that's not positiveeeee\")\n",
        "    else:\n",
        "        print(\"are you kidding? \")\n"
      ]
    },
    {
      "cell_type": "markdown",
      "metadata": {
        "id": "hBepD0YT8yuj"
      },
      "source": [
        "Finding the Sum of Digits of a Number"
      ]
    },
    {
      "cell_type": "code",
      "execution_count": null,
      "metadata": {},
      "outputs": [],
      "source": [
        "x = input(\"enter your number\")\n",
        "\n",
        "if x.isdigit():\n",
        "    total = 0\n",
        "    for digit in x:\n",
        "        total += int(digit)\n",
        "    print(\"the sum \", total)\n",
        "else:\n",
        "    print(\"errrrorrororro\")\n"
      ]
    },
    {
      "cell_type": "markdown",
      "metadata": {
        "id": "ntjLb-5C82I1"
      },
      "source": [
        "Drawing a Simple Pattern Using Loops"
      ]
    },
    {
      "cell_type": "code",
      "execution_count": null,
      "metadata": {},
      "outputs": [],
      "source": [
        "n = int(input(\"enter number \"))\n",
        "\n",
        "for i in range(1, n + 1):\n",
        "    print(\" \" * (n - i) + \"A \" * i)\n"
      ]
    },
    {
      "cell_type": "markdown",
      "metadata": {
        "id": "83tfWnxq-aXp"
      },
      "source": [
        "Checking for Palindrome Strings"
      ]
    },
    {
      "cell_type": "code",
      "execution_count": null,
      "metadata": {},
      "outputs": [],
      "source": [
        "s = input(\"enter a string to check if it's a palindrome: \")\n",
        "s = s.lower().replace(\" \", \"\")\n",
        "\n",
        "if s == s[::-1]:\n",
        "    print(\" it's a palindrome :)\")\n",
        "else:\n",
        "    print(\" nit palindrome\")\n"
      ]
    },
    {
      "cell_type": "markdown",
      "metadata": {
        "id": "nqPKKvMB-dv1"
      },
      "source": [
        "Creating a Dictionary from Two Lists"
      ]
    },
    {
      "cell_type": "code",
      "execution_count": null,
      "metadata": {},
      "outputs": [],
      "source": [
        "keys = input(\"enter the keys  \").split()\n",
        "values = input(\"enter the values \").split()\n",
        "\n",
        "if len(keys) != len(values):\n",
        "    print(\"erorroror\")\n",
        "else:\n",
        "    d = {}\n",
        "    for i in range(len(keys)):\n",
        "        d[keys[i]] = values[i]\n",
        "    print(\"look \", d)\n"
      ]
    },
    {
      "cell_type": "markdown",
      "metadata": {
        "id": "eJBsRqgD-gPE"
      },
      "source": [
        "Simulating a Simple Password Check"
      ]
    },
    {
      "cell_type": "code",
      "execution_count": null,
      "metadata": {},
      "outputs": [],
      "source": [
        "   passwords = [\"12345\", \"67891\", \"23456\", \"78912\", \"34567\"]\n",
        "\n",
        "while True:\n",
        "    passw = input(\"enter password: \")\n",
        "    if passw in passwords:\n",
        "        print(\"welcome\")\n",
        "        break\n",
        "    else:\n",
        "        print(\"calling 911\")\n",
        "        try_again = input(\"try again \")\n",
        "        if try_again.lower() != \"yes\":\n",
        "            print(\"go\")\n",
        "            break\n",
        "\n"
      ]
    },
    {
      "cell_type": "markdown",
      "metadata": {
        "id": "2IrySZdJ-qR3"
      },
      "source": [
        "Generating a Multiplication Table for a Given Number"
      ]
    },
    {
      "cell_type": "code",
      "execution_count": null,
      "metadata": {},
      "outputs": [],
      "source": [
        "x = input(\"enter your number \")\n",
        "x = int(x)\n",
        "for i in range(10):\n",
        "        print(x, \"*\", i, \"=\", x * i)"
      ]
    }
  ],
  "metadata": {
    "colab": {
      "collapsed_sections": [
        "JIX9shev5qME",
        "8FdTMZd45kyk",
        "Y1vNwmhg5_L3",
        "WVAot-Vr8F2U"
      ],
      "provenance": []
    },
    "kernelspec": {
      "display_name": "Python 3",
      "name": "python3"
    },
    "language_info": {
      "codemirror_mode": {
        "name": "ipython",
        "version": 3
      },
      "file_extension": ".py",
      "mimetype": "text/x-python",
      "name": "python",
      "nbconvert_exporter": "python",
      "pygments_lexer": "ipython3",
      "version": "3.13.5"
    }
  },
  "nbformat": 4,
  "nbformat_minor": 0
}
